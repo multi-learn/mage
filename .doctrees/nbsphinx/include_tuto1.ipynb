{
 "cells": [
  {
   "cell_type": "markdown",
   "metadata": {
    "collapsed": true,
    "pycharm": {
     "name": "#%% md\n"
    }
   },
   "source": [
    "# Multiview Dataset Generator Demo\n",
    "\n",
    "Once you have [installed](https://gitlab.lis-lab.fr/dev/multiview_generator) MAGE, you are able to run it with this notebook."
   ]
  },
  {
   "cell_type": "code",
   "execution_count": 1,
   "metadata": {
    "ExecuteTime": {
     "end_time": "2025-07-25T16:27:21.327351Z",
     "start_time": "2025-07-25T16:27:21.325564Z"
    },
    "execution": {
     "iopub.execute_input": "2025-10-07T10:08:58.392832Z",
     "iopub.status.busy": "2025-10-07T10:08:58.392581Z",
     "iopub.status.idle": "2025-10-07T10:08:59.279183Z",
     "shell.execute_reply": "2025-10-07T10:08:59.278607Z"
    },
    "pycharm": {
     "is_executing": false,
     "name": "#%% \n"
    }
   },
   "outputs": [],
   "source": [
    "from multiview_generator.gaussian_classes import MultiViewGaussianSubProblemsGenerator\n",
    "from tabulate import tabulate\n",
    "import numpy as np\n",
    "\n",
    "random_state = np.random.RandomState(42)"
   ]
  },
  {
   "cell_type": "markdown",
   "metadata": {
    "pycharm": {
     "name": "#%% md\n"
    }
   },
   "source": [
    "## Basic configuration\n",
    "\n",
    "Let us suppose that you want to build a multiview dataset with 4 views and three classes : "
   ]
  },
  {
   "cell_type": "code",
   "execution_count": 2,
   "metadata": {
    "ExecuteTime": {
     "end_time": "2025-07-25T16:27:21.340800Z",
     "start_time": "2025-07-25T16:27:21.339347Z"
    },
    "execution": {
     "iopub.execute_input": "2025-10-07T10:08:59.281327Z",
     "iopub.status.busy": "2025-10-07T10:08:59.281047Z",
     "iopub.status.idle": "2025-10-07T10:08:59.283934Z",
     "shell.execute_reply": "2025-10-07T10:08:59.283329Z"
    },
    "pycharm": {
     "is_executing": false,
     "name": "#%% \n"
    }
   },
   "outputs": [],
   "source": [
    "name = \"demo\"\n",
    "n_views = 4\n",
    "n_classes = 3"
   ]
  },
  {
   "cell_type": "markdown",
   "metadata": {
    "pycharm": {
     "name": "#%% md\n"
    }
   },
   "source": [
    "In order to configure the dataset, you have to provide the error matrix that gives the expected error of the Byaes classifier for Class i on View j as the value in row i column j :  "
   ]
  },
  {
   "cell_type": "code",
   "execution_count": 3,
   "metadata": {
    "ExecuteTime": {
     "end_time": "2025-07-25T16:27:21.390817Z",
     "start_time": "2025-07-25T16:27:21.388796Z"
    },
    "execution": {
     "iopub.execute_input": "2025-10-07T10:08:59.285510Z",
     "iopub.status.busy": "2025-10-07T10:08:59.285313Z",
     "iopub.status.idle": "2025-10-07T10:08:59.289569Z",
     "shell.execute_reply": "2025-10-07T10:08:59.288898Z"
    },
    "pycharm": {
     "is_executing": false,
     "name": "#%%\n"
    }
   },
   "outputs": [
    {
     "name": "stdout",
     "output_type": "stream",
     "text": [
      "+------+------+------+------+\n",
      "| 0.3  | 0.32 | 0.38 | 0.3  |\n",
      "+------+------+------+------+\n",
      "| 0.35 | 0.28 | 0.2  | 0.15 |\n",
      "+------+------+------+------+\n",
      "| 0.25 | 0.29 | 0.15 | 0.21 |\n",
      "+------+------+------+------+\n"
     ]
    }
   ],
   "source": [
    "error_matrix = [\n",
    "   [0.30, 0.32, 0.38, 0.30],\n",
    "   [0.35, 0.28, 0.20, 0.15],\n",
    "   [0.25, 0.29, 0.15, 0.21]\n",
    "]\n",
    "print(tabulate(error_matrix, tablefmt=\"grid\"))"
   ]
  },
  {
   "cell_type": "markdown",
   "metadata": {
    "pycharm": {
     "name": "#%% md\n"
    }
   },
   "source": [
    "Once this has been defined, you can set all the other parameters of the dataset : \n",
    "* the number of samples, \n",
    "* the number of features of each view,\n",
    "* the proportion of samples in each class."
   ]
  },
  {
   "cell_type": "code",
   "execution_count": 4,
   "metadata": {
    "ExecuteTime": {
     "end_time": "2025-07-25T16:31:59.194366Z",
     "start_time": "2025-07-25T16:27:21.436218Z"
    },
    "execution": {
     "iopub.execute_input": "2025-10-07T10:08:59.323614Z",
     "iopub.status.busy": "2025-10-07T10:08:59.323375Z",
     "iopub.status.idle": "2025-10-07T10:08:59.326197Z",
     "shell.execute_reply": "2025-10-07T10:08:59.325741Z"
    },
    "pycharm": {
     "is_executing": false,
     "name": "#%%\n"
    }
   },
   "outputs": [],
   "source": [
    "n_samples = 2000\n",
    "n_features = 3\n",
    "class_weights = [0.333, 0.333, 0.333,]"
   ]
  },
  {
   "cell_type": "markdown",
   "metadata": {
    "pycharm": {
     "name": "#%% md\n"
    }
   },
   "source": [
    "## Generate the dataset\n",
    "\n",
    "With the basic configuration done, we can generate the dataset :"
   ]
  },
  {
   "cell_type": "code",
   "execution_count": 5,
   "metadata": {
    "ExecuteTime": {
     "end_time": "2025-07-25T16:32:04.526096Z",
     "start_time": "2025-07-25T16:32:04.402520Z"
    },
    "execution": {
     "iopub.execute_input": "2025-10-07T10:08:59.327780Z",
     "iopub.status.busy": "2025-10-07T10:08:59.327615Z",
     "iopub.status.idle": "2025-10-07T10:08:59.545829Z",
     "shell.execute_reply": "2025-10-07T10:08:59.545298Z"
    },
    "pycharm": {
     "is_executing": false,
     "name": "#%% \n"
    }
   },
   "outputs": [
    {
     "name": "stdout",
     "output_type": "stream",
     "text": [
      "View 1 of shape (1998, 3)\n",
      "View 2 of shape (1998, 3)\n",
      "View 3 of shape (1998, 3)\n",
      "View 4 of shape (1998, 3)\n"
     ]
    }
   ],
   "source": [
    "generator = MultiViewGaussianSubProblemsGenerator(name=name, n_views=n_views, \n",
    "                                          n_classes=n_classes, \n",
    "                                          n_samples=n_samples, \n",
    "                                          n_features=n_features, \n",
    "                                          class_weights=class_weights, \n",
    "                                          error_matrix=error_matrix, \n",
    "                                          random_state=random_state)  \n",
    "\n",
    "dataset, y = generator.generate_multi_view_dataset()\n",
    "\n",
    "for view_index, view_data in enumerate(dataset):\n",
    "    print(\"View {} of shape {}\".format(view_index+1, view_data.shape))\n"
   ]
  },
  {
   "cell_type": "markdown",
   "metadata": {
    "pycharm": {
     "is_executing": false,
     "name": "#%% md\n"
    }
   },
   "source": [
    "Here, we see that the output shape is 1998 instead of 1000 as the classes are supposed to be equivalent. \n",
    "\n",
    "## Get a description of it\n",
    "\n",
    "Now, if you wish to get information about the generated dataset, run : "
   ]
  },
  {
   "cell_type": "code",
   "execution_count": 6,
   "metadata": {
    "ExecuteTime": {
     "end_time": "2025-07-25T16:32:04.573705Z",
     "start_time": "2025-07-25T16:32:04.537628Z"
    },
    "execution": {
     "iopub.execute_input": "2025-10-07T10:08:59.547708Z",
     "iopub.status.busy": "2025-10-07T10:08:59.547529Z",
     "iopub.status.idle": "2025-10-07T10:08:59.606964Z",
     "shell.execute_reply": "2025-10-07T10:08:59.606411Z"
    },
    "pycharm": {
     "is_executing": false,
     "name": "#%%\n"
    }
   },
   "outputs": [],
   "source": [
    "description = generator.gen_report(save=False)"
   ]
  },
  {
   "cell_type": "markdown",
   "metadata": {
    "pycharm": {
     "name": "#%% md\n"
    }
   },
   "source": [
    "This will generate a markdown report on the dataset. Here, we used `save=False` so the description is not saved in a file. \n",
    "\n",
    "To print it in this notebook, we use : "
   ]
  },
  {
   "cell_type": "code",
   "execution_count": 7,
   "metadata": {
    "ExecuteTime": {
     "end_time": "2025-07-25T16:32:04.592475Z",
     "start_time": "2025-07-25T16:32:04.590106Z"
    },
    "execution": {
     "iopub.execute_input": "2025-10-07T10:08:59.608680Z",
     "iopub.status.busy": "2025-10-07T10:08:59.608511Z",
     "iopub.status.idle": "2025-10-07T10:08:59.614351Z",
     "shell.execute_reply": "2025-10-07T10:08:59.613800Z"
    },
    "pycharm": {
     "is_executing": false,
     "name": "#%%\n"
    }
   },
   "outputs": [
    {
     "data": {
      "text/markdown": [
       "# Generated dataset description\n",
       "\n",
       "The dataset named `demo` has been generated by [MAGE](https://github.com/multi-learn/mage) and is comprised of \n",
       "\n",
       "* 1998 samples, splitted in \n",
       "* 3 classes, described by \n",
       "* 4 views.\n",
       "\n",
       "The input error matrix is \n",
       " \n",
       "|         |   View 1 |   View 2 |   View 3 |   View 4 |\n",
       "|---------|----------|----------|----------|----------|\n",
       "| Class 1 |     0.3  |     0.32 |     0.38 |     0.3  |\n",
       "| Class 2 |     0.35 |     0.28 |     0.2  |     0.15 |\n",
       "| Class 3 |     0.25 |     0.29 |     0.15 |     0.21 |\n",
       "\n",
       " The classes are balanced as : \n",
       "\n",
       "* Class 1 : 666 samples (33% of the dataset)\n",
       "* Class 2 : 666 samples (33% of the dataset)\n",
       "* Class 3 : 666 samples (33% of the dataset)\n",
       "\n",
       " The views have \n",
       "\n",
       "* 64.56% redundancy, \n",
       "* 1.0% mutual error and \n",
       "* 34.53% complementarity with a level of [[3]\n",
       " [3]\n",
       " [3]].\n",
       "\n",
       "## Views description\n",
       "\n",
       "### View 1\n",
       "\n",
       "This view is generated with StumpsGenerator, with the following configuration : \n",
       "```yaml\n",
       "class_sep: 1.0\n",
       "n_clusters_per_class: 1\n",
       "n_features: 3\n",
       "```\n",
       "\n",
       "This view has 3 features, among which 2 are relevant for classification (they are the 2 first columns of the view) the other are filled with uniform noise.\n",
       "\n",
       " Its empirical bayesian classifier is a decision stump\n",
       "\n",
       "### View 2\n",
       "\n",
       "This view is generated with StumpsGenerator, with the following configuration : \n",
       "```yaml\n",
       "class_sep: 1.0\n",
       "n_clusters_per_class: 1\n",
       "n_features: 3\n",
       "```\n",
       "\n",
       "This view has 3 features, among which 2 are relevant for classification (they are the 2 first columns of the view) the other are filled with uniform noise.\n",
       "\n",
       " Its empirical bayesian classifier is a decision stump\n",
       "\n",
       "### View 3\n",
       "\n",
       "This view is generated with StumpsGenerator, with the following configuration : \n",
       "```yaml\n",
       "class_sep: 1.0\n",
       "n_clusters_per_class: 1\n",
       "n_features: 3\n",
       "```\n",
       "\n",
       "This view has 3 features, among which 2 are relevant for classification (they are the 2 first columns of the view) the other are filled with uniform noise.\n",
       "\n",
       " Its empirical bayesian classifier is a decision stump\n",
       "\n",
       "### View 4\n",
       "\n",
       "This view is generated with StumpsGenerator, with the following configuration : \n",
       "```yaml\n",
       "class_sep: 1.0\n",
       "n_clusters_per_class: 1\n",
       "n_features: 3\n",
       "```\n",
       "\n",
       "This view has 3 features, among which 2 are relevant for classification (they are the 2 first columns of the view) the other are filled with uniform noise.\n",
       "\n",
       " Its empirical bayesian classifier is a decision stump\n",
       "\n",
       "## Statistical analysis\n",
       "\n",
       "Bayes error matrix : \n",
       "\n",
       "|        |   Class 1 |   Class 2 |   Class 3 |\n",
       "|--------|-----------|-----------|-----------|\n",
       "| View 1 |  0.328829 |  0.334835 |  0.25976  |\n",
       "| View 2 |  0.33033  |  0.282282 |  0.283784 |\n",
       "| View 3 |  0.369369 |  0.198198 |  0.126126 |\n",
       "| View 4 |  0.310811 |  0.141141 |  0.189189 |\n",
       "\n",
       " The error, as computed by the 'empirical bayes' classifier of each view : \n",
       "\n",
       "|        |   Class 1 |   Class 2 |   Class 3 |\n",
       "|--------|-----------|-----------|-----------|\n",
       "| View 1 |  0.304805 |  0.297297 | 0.363363  |\n",
       "| View 2 |  0.325826 |  0.280781 | 0.219219  |\n",
       "| View 3 |  0.381381 |  0.160661 | 0.0975976 |\n",
       "| View 4 |  0.279279 |  0.148649 | 0.171171  |\n",
       "\n",
       "This report has been automatically generated on October 07, 2025 at 10:08:59"
      ],
      "text/plain": [
       "<IPython.core.display.Markdown object>"
      ]
     },
     "metadata": {},
     "output_type": "display_data"
    }
   ],
   "source": [
    "from IPython.display import display,Markdown\n",
    "display(Markdown(description))"
   ]
  },
  {
   "cell_type": "code",
   "execution_count": 8,
   "metadata": {
    "ExecuteTime": {
     "end_time": "2025-07-25T16:32:04.701481Z",
     "start_time": "2025-07-25T16:32:04.698357Z"
    },
    "execution": {
     "iopub.execute_input": "2025-10-07T10:08:59.615925Z",
     "iopub.status.busy": "2025-10-07T10:08:59.615755Z",
     "iopub.status.idle": "2025-10-07T10:08:59.618914Z",
     "shell.execute_reply": "2025-10-07T10:08:59.618461Z"
    },
    "nbsphinx": "hidden"
   },
   "outputs": [],
   "source": [
    "import os\n",
    "\n",
    "dir_path = os.path.dirname(os.path.realpath(\"__file__\"))\n",
    "if os.environ.get(\"SPHINX_BUILD\") == \"1\":\n",
    "    supp_dir = os.path.join(\"_static\", \"supplementary_material\")\n",
    "else:\n",
    "    supp_dir = os.path.join(\"supplementary_material\")\n"
   ]
  },
  {
   "cell_type": "markdown",
   "metadata": {
    "pycharm": {
     "name": "#%% md\n"
    }
   },
   "source": [
    "But if you just want to save it, you can use :"
   ]
  },
  {
   "cell_type": "code",
   "execution_count": 9,
   "metadata": {
    "ExecuteTime": {
     "end_time": "2025-07-25T16:32:04.905372Z",
     "start_time": "2025-07-25T16:32:04.726773Z"
    },
    "execution": {
     "iopub.execute_input": "2025-10-07T10:08:59.620563Z",
     "iopub.status.busy": "2025-10-07T10:08:59.620371Z",
     "iopub.status.idle": "2025-10-07T10:09:00.069431Z",
     "shell.execute_reply": "2025-10-07T10:09:00.068867Z"
    },
    "pycharm": {
     "is_executing": false,
     "name": "#%% \n"
    }
   },
   "outputs": [
    {
     "data": {
      "text/plain": [
       "\"# Generated dataset description\\n\\nThe dataset named `demo` has been generated by [MAGE](https://github.com/multi-learn/mage) and is comprised of \\n\\n* 1998 samples, splitted in \\n* 3 classes, described by \\n* 4 views.\\n\\nThe input error matrix is \\n \\n|         |   View 1 |   View 2 |   View 3 |   View 4 |\\n|---------|----------|----------|----------|----------|\\n| Class 1 |     0.3  |     0.32 |     0.38 |     0.3  |\\n| Class 2 |     0.35 |     0.28 |     0.2  |     0.15 |\\n| Class 3 |     0.25 |     0.29 |     0.15 |     0.21 |\\n\\n The classes are balanced as : \\n\\n* Class 1 : 666 samples (33% of the dataset)\\n* Class 2 : 666 samples (33% of the dataset)\\n* Class 3 : 666 samples (33% of the dataset)\\n\\n The views have \\n\\n* 64.56% redundancy, \\n* 1.0% mutual error and \\n* 34.53% complementarity with a level of [[3]\\n [3]\\n [3]].\\n\\n## Views description\\n\\n### View 1\\n\\nThis view is generated with StumpsGenerator, with the following configuration : \\n```yaml\\nclass_sep: 1.0\\nn_clusters_per_class: 1\\nn_features: 3\\n```\\n\\nThis view has 3 features, among which 2 are relevant for classification (they are the 2 first columns of the view) the other are filled with uniform noise.\\n\\n Its empirical bayesian classifier is a decision stump\\n\\n### View 2\\n\\nThis view is generated with StumpsGenerator, with the following configuration : \\n```yaml\\nclass_sep: 1.0\\nn_clusters_per_class: 1\\nn_features: 3\\n```\\n\\nThis view has 3 features, among which 2 are relevant for classification (they are the 2 first columns of the view) the other are filled with uniform noise.\\n\\n Its empirical bayesian classifier is a decision stump\\n\\n### View 3\\n\\nThis view is generated with StumpsGenerator, with the following configuration : \\n```yaml\\nclass_sep: 1.0\\nn_clusters_per_class: 1\\nn_features: 3\\n```\\n\\nThis view has 3 features, among which 2 are relevant for classification (they are the 2 first columns of the view) the other are filled with uniform noise.\\n\\n Its empirical bayesian classifier is a decision stump\\n\\n### View 4\\n\\nThis view is generated with StumpsGenerator, with the following configuration : \\n```yaml\\nclass_sep: 1.0\\nn_clusters_per_class: 1\\nn_features: 3\\n```\\n\\nThis view has 3 features, among which 2 are relevant for classification (they are the 2 first columns of the view) the other are filled with uniform noise.\\n\\n Its empirical bayesian classifier is a decision stump\\n\\n## Statistical analysis\\n\\nBayes error matrix : \\n\\n|        |   Class 1 |   Class 2 |   Class 3 |\\n|--------|-----------|-----------|-----------|\\n| View 1 |  0.328829 |  0.334835 |  0.25976  |\\n| View 2 |  0.33033  |  0.282282 |  0.283784 |\\n| View 3 |  0.369369 |  0.198198 |  0.126126 |\\n| View 4 |  0.310811 |  0.141141 |  0.189189 |\\n\\n The error, as computed by the 'empirical bayes' classifier of each view : \\n\\n|        |   Class 1 |   Class 2 |   Class 3 |\\n|--------|-----------|-----------|-----------|\\n| View 1 |  0.304805 |  0.297297 | 0.363363  |\\n| View 2 |  0.325826 |  0.280781 | 0.219219  |\\n| View 3 |  0.381381 |  0.160661 | 0.0975976 |\\n| View 4 |  0.279279 |  0.148649 | 0.171171  |\\n\\nThis report has been automatically generated on October 07, 2025 at 10:09:00\""
      ]
     },
     "execution_count": 9,
     "metadata": {},
     "output_type": "execute_result"
    }
   ],
   "source": [
    "generator.gen_report(output_path=supp_dir, save=True)"
   ]
  },
  {
   "cell_type": "markdown",
   "metadata": {
    "pycharm": {
     "name": "#%% md\n"
    }
   },
   "source": [
    "This will save the description in the current directory, in a file called `demo.md` as the name of the dataset is \"demo\".\n",
    "\n",
    "## Save the dataset in an HDF5 file \n",
    "\n",
    "Moreover, it is possible to save tha dataset in an HDF5 file, compatible with [SuMMIT](https://gitlab.lis-lab.fr/baptiste.bauvin/summit/) with \n",
    " "
   ]
  },
  {
   "cell_type": "code",
   "execution_count": 10,
   "metadata": {
    "ExecuteTime": {
     "end_time": "2025-07-25T16:32:04.975745Z",
     "start_time": "2025-07-25T16:32:04.911534Z"
    },
    "execution": {
     "iopub.execute_input": "2025-10-07T10:09:00.071217Z",
     "iopub.status.busy": "2025-10-07T10:09:00.071043Z",
     "iopub.status.idle": "2025-10-07T10:09:00.132852Z",
     "shell.execute_reply": "2025-10-07T10:09:00.132321Z"
    },
    "pycharm": {
     "is_executing": false,
     "name": "#%%\n"
    }
   },
   "outputs": [],
   "source": [
    "generator.to_hdf5_mc(saving_path=supp_dir)"
   ]
  },
  {
   "cell_type": "markdown",
   "metadata": {
    "pycharm": {
     "name": "#%% md\n"
    }
   },
   "source": [
    "## Visualizing the dataset with [plotly](https://plotly.com/)\n",
    "\n",
    "Here, we purposely used only 3 featrues per view, so the generated dataset is easily plottable in 3D. \n",
    "\n",
    "Let us plot each view :"
   ]
  },
  {
   "cell_type": "code",
   "execution_count": 11,
   "metadata": {
    "ExecuteTime": {
     "end_time": "2025-07-25T16:32:05.071110Z",
     "start_time": "2025-07-25T16:32:04.983294Z"
    },
    "execution": {
     "iopub.execute_input": "2025-10-07T10:09:00.134599Z",
     "iopub.status.busy": "2025-10-07T10:09:00.134408Z",
     "iopub.status.idle": "2025-10-07T10:09:00.247152Z",
     "shell.execute_reply": "2025-10-07T10:09:00.246588Z"
    },
    "pycharm": {
     "is_executing": false,
     "name": "#%% \n"
    }
   },
   "outputs": [
    {
     "data": {
      "text/html": [
       "\n",
       "        <iframe\n",
       "            width=\"500\"\n",
       "            height=\"500\"\n",
       "            src=\"_static/supplementary_material/fig.html\"\n",
       "            frameborder=\"0\"\n",
       "            allowfullscreen\n",
       "            \n",
       "        ></iframe>\n",
       "        "
      ],
      "text/plain": [
       "<IPython.lib.display.IFrame at 0x7f9621eeaa50>"
      ]
     },
     "execution_count": 11,
     "metadata": {},
     "output_type": "execute_result"
    }
   ],
   "source": [
    "import plotly\n",
    "from plotly.subplots import make_subplots\n",
    "import plotly.graph_objects as go\n",
    "from plotly.colors import DEFAULT_PLOTLY_COLORS\n",
    "from IPython.display import display\n",
    "from IPython.display import IFrame\n",
    "\n",
    "\n",
    "fig = make_subplots(rows=2, cols=2,\n",
    "                    subplot_titles= [\"View {}\".format(view_index)\n",
    "                                     for view_index in range(n_views)],\n",
    "                    specs=[[{'type': 'scatter3d'}, {'type': 'scatter3d'}, ],\n",
    "                               [{'type': 'scatter3d'},\n",
    "                                {'type': 'scatter3d'}, ]])\n",
    "row = 1\n",
    "col = 1\n",
    "show_legend = True\n",
    "# Plot the data for each view and each label\n",
    "for view_index in range(n_views):\n",
    "    for lab_index in range(n_classes):\n",
    "        concerned_examples = np.where(generator.y == lab_index)[0]\n",
    "        fig.add_trace(\n",
    "            go.Scatter3d(\n",
    "                x=generator.dataset[view_index][concerned_examples, 0],\n",
    "                y=generator.dataset[view_index][concerned_examples, 1],\n",
    "                z=generator.dataset[view_index][concerned_examples, 2],\n",
    "                text=[generator.sample_ids[ind] for ind in concerned_examples],\n",
    "                hoverinfo='text',\n",
    "                legendgroup=\"Class {}\".format(lab_index),\n",
    "                mode='markers', marker=dict(size=1,\n",
    "                                            color=DEFAULT_PLOTLY_COLORS[lab_index],\n",
    "                                            opacity=0.8),\n",
    "                name=\"Class {}\".format(lab_index),\n",
    "                showlegend=show_legend),\n",
    "            row=row, col=col)\n",
    "    show_legend = False\n",
    "    col += 1\n",
    "    if col == 3:\n",
    "        col = 1\n",
    "        row += 1\n",
    "\n",
    "fig_path = os.path.join(supp_dir, \"fig.html\")\n",
    "plotly.offline.plot(fig, filename=fig_path, auto_open=False)\n",
    "IFrame(src=fig_path , width=500, height=500)"
   ]
  },
  {
   "cell_type": "markdown",
   "metadata": {
    "pycharm": {
     "name": "#%% md\n"
    }
   },
   "source": [
    "The figure shows us the dataset with a 3D-subplot for each view.  It is possible to remove the samples of a specific class by clicking on a label in the legend. The sub-problems are of dimension 3 (3 features), however, to separate 3 classes only 2 features are needed, so the first two dimensions (x and y in the plots) are \"relevant\", while the third is filled with noise.  \n",
    "\n",
    "## Getting the outputted error matrix\n",
    "\n",
    "In order to measure the outputted error matrix, as the views have been generated with [make_classification](https://scikit-learn.org/stable/modules/generated/sklearn.datasets.make_classification.html), \n",
    "the [DecisionTree](https://scikit-learn.org/stable/modules/generated/sklearn.tree.DecisionTreeClassifier.html) is a good approximation of the Bayes classifier.\n",
    "\n",
    "In order to estimate the test error in the dataset for each class with a Decision Tree, we use a [StratifiedKFold](https://scikit-learn.org/stable/modules/generated/sklearn.model_selection.StratifiedKFold.html#sklearn.model_selection.StratifiedKFold) :"
   ]
  },
  {
   "cell_type": "code",
   "execution_count": 12,
   "metadata": {
    "ExecuteTime": {
     "end_time": "2025-07-25T16:32:05.088930Z",
     "start_time": "2025-07-25T16:32:05.083957Z"
    },
    "execution": {
     "iopub.execute_input": "2025-10-07T10:09:00.248884Z",
     "iopub.status.busy": "2025-10-07T10:09:00.248713Z",
     "iopub.status.idle": "2025-10-07T10:09:00.253119Z",
     "shell.execute_reply": "2025-10-07T10:09:00.252686Z"
    },
    "pycharm": {
     "is_executing": false,
     "name": "#%%\n"
    }
   },
   "outputs": [],
   "source": [
    "from sklearn.model_selection import StratifiedKFold\n",
    "\n",
    "n_folds = 5\n",
    "\n",
    "folds_generator = StratifiedKFold(n_folds, random_state=random_state,\n",
    "                                 shuffle=True)\n",
    "# Splitting the array containing the indices of the samples\n",
    "folds = folds_generator.split(np.arange(generator.y.shape[0]), generator.y)\n",
    "\n",
    "# Getting the list of each the sample indices in each fold.\n",
    "folds = [[list(train), list(test)] for train, test in folds]"
   ]
  },
  {
   "cell_type": "markdown",
   "metadata": {
    "pycharm": {
     "name": "#%% md\n"
    }
   },
   "source": [
    "Then, we get a Decision Tree of depth 3 (as each view has 3 features), and fit it on each view, for each fold.\n",
    "The ouptuted score is the cross-validation score on the 5 folds."
   ]
  },
  {
   "cell_type": "code",
   "execution_count": 13,
   "metadata": {
    "ExecuteTime": {
     "end_time": "2025-07-25T16:32:05.242364Z",
     "start_time": "2025-07-25T16:32:05.133795Z"
    },
    "execution": {
     "iopub.execute_input": "2025-10-07T10:09:00.254696Z",
     "iopub.status.busy": "2025-10-07T10:09:00.254529Z",
     "iopub.status.idle": "2025-10-07T10:09:00.389422Z",
     "shell.execute_reply": "2025-10-07T10:09:00.388920Z"
    },
    "pycharm": {
     "is_executing": false,
     "name": "#%% \n"
    }
   },
   "outputs": [
    {
     "name": "stdout",
     "output_type": "stream",
     "text": [
      "Input error matrix : \n",
      "+------+------+------+------+\n",
      "| 0.3  | 0.32 | 0.38 | 0.3  |\n",
      "+------+------+------+------+\n",
      "| 0.35 | 0.28 | 0.2  | 0.15 |\n",
      "+------+------+------+------+\n",
      "| 0.25 | 0.29 | 0.15 | 0.21 |\n",
      "+------+------+------+------+\n",
      "\n",
      "Outputted error matrix : \n",
      "+----------+----------+----------+----------+\n",
      "| 0.397898 | 0.396396 | 0.382883 | 0.331832 |\n",
      "+----------+----------+----------+----------+\n",
      "| 0.295796 | 0.276276 | 0.151652 | 0.15015  |\n",
      "+----------+----------+----------+----------+\n",
      "| 0.24024  | 0.255255 | 0.162162 | 0.189189 |\n",
      "+----------+----------+----------+----------+\n",
      "\n",
      "Difference :\n",
      "+-------------+-------------+-------------+-------------+\n",
      "| -0.0978979  | -0.0763964  | -0.00288288 | -0.0318318  |\n",
      "+-------------+-------------+-------------+-------------+\n",
      "|  0.0542042  |  0.00372372 |  0.0483483  | -0.00015015 |\n",
      "+-------------+-------------+-------------+-------------+\n",
      "|  0.00975976 |  0.0347447  | -0.0121622  |  0.0208108  |\n",
      "+-------------+-------------+-------------+-------------+\n"
     ]
    }
   ],
   "source": [
    "from sklearn.tree import DecisionTreeClassifier\n",
    "from sklearn.metrics import confusion_matrix\n",
    "\n",
    "dt = DecisionTreeClassifier(max_depth=10)\n",
    "confusion_mat = np.zeros((n_folds, n_views, n_classes, n_classes))\n",
    "n_sample_per_class = np.zeros((n_views, n_classes, n_folds))\n",
    "\n",
    "# For each view\n",
    "for view_index in range(n_views):\n",
    "    # For each fold\n",
    "    for fold_index, [train, test] in enumerate(folds):\n",
    "\n",
    "        # Fit the decision tree on the training set\n",
    "        dt.fit(generator.dataset[view_index][train, :], generator.y[train])\n",
    "        # Predict on the testing set\n",
    "        pred = dt.predict(generator.dataset[view_index][test, :])\n",
    "\n",
    "        # Get the confusion matrix\n",
    "        confusion_mat[fold_index, view_index, :, :] = confusion_matrix(generator.y[test], pred)\n",
    "        for class_index in range(n_classes):\n",
    "            n_sample_per_class[view_index, class_index, fold_index] = np.where(generator.y[test]==class_index)[0].shape[0]\n",
    "confusion_mat = np.mean(confusion_mat, axis=0)\n",
    "n_sample_per_class = np.mean(n_sample_per_class, axis=2)\n",
    "output = np.zeros((n_classes, n_views))\n",
    "# Get the class error thanks with the confusion matrix\n",
    "for class_index in range(n_classes):\n",
    "    for view_index in range(n_views):\n",
    "        output[class_index, view_index] = 1-confusion_mat[view_index, class_index, class_index]/n_sample_per_class[view_index, class_index]\n",
    "\n",
    "print(\"Input error matrix : \\n{}\\n\\nOutputted error matrix : \\n{}\\n\\nDifference :\\n{}\".format(tabulate(error_matrix, tablefmt='grid'), tabulate(output, tablefmt='grid'), tabulate(error_matrix-output, tablefmt='grid')))"
   ]
  },
  {
   "cell_type": "markdown",
   "metadata": {
    "pycharm": {
     "name": "#%% md\n"
    }
   },
   "source": [
    "Here, we can see that there is a slight difference between the input error matrix and the ouput one.\n",
    "\n",
    "## Conclusion\n",
    "\n",
    "In this demo, we used MAGE to generate a basic multiview dataset, and we performed a naive analysis on it.\n",
    "The next tutorial will be focused on introducing redundancy, mutual error and complementarity."
   ]
  }
 ],
 "metadata": {
  "kernelspec": {
   "display_name": "Python 3",
   "language": "python",
   "name": "python3"
  },
  "language_info": {
   "codemirror_mode": {
    "name": "ipython",
    "version": 3
   },
   "file_extension": ".py",
   "mimetype": "text/x-python",
   "name": "python",
   "nbconvert_exporter": "python",
   "pygments_lexer": "ipython3",
   "version": "3.12.11"
  },
  "pycharm": {
   "stem_cell": {
    "cell_type": "raw",
    "metadata": {
     "collapsed": false
    },
    "source": []
   }
  }
 },
 "nbformat": 4,
 "nbformat_minor": 1
}
