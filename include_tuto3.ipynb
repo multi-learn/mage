{
 "cells": [
  {
   "cell_type": "markdown",
   "metadata": {},
   "source": [
    "# MAGE tutorial :  multiple monoview generators. \n",
    "\n",
    "In this tutorial, we will learn how to use different monoview generators and configure them. \n",
    "Let us first define the vizualization functions :\n"
   ]
  },
  {
   "cell_type": "code",
   "execution_count": 1,
   "metadata": {
    "ExecuteTime": {
     "end_time": "2025-07-22T19:08:24.216401Z",
     "start_time": "2025-07-22T19:08:24.212513Z"
    },
    "execution": {
     "iopub.execute_input": "2025-10-07T10:09:32.099307Z",
     "iopub.status.busy": "2025-10-07T10:09:32.099131Z",
     "iopub.status.idle": "2025-10-07T10:09:33.070316Z",
     "shell.execute_reply": "2025-10-07T10:09:33.069673Z"
    }
   },
   "outputs": [],
   "source": [
    "from sklearn.datasets import make_classification, make_gaussian_quantiles\n",
    "import numpy as np\n",
    "import plotly\n",
    "import plotly.graph_objects as go\n",
    "from plotly.subplots import make_subplots\n",
    "from plotly.colors import DEFAULT_PLOTLY_COLORS\n",
    "\n",
    "from multiview_generator.gaussian_classes import MultiViewGaussianSubProblemsGenerator\n",
    "from multiview_generator.sub_problems import *\n",
    "\n",
    "\n",
    "def plot_3d(data):\n",
    "    fig = go.Figure()\n",
    "    for (label, class_data) in enumerate(data):\n",
    "        fig.add_trace(go.Scatter3d(x=class_data[:, 0], \n",
    "                                   y=class_data[:, 1],\n",
    "                                   z=class_data[:, 2],\n",
    "                                  name=\"Class {}\".format(label+1), \n",
    "                                  mode=\"markers\", \n",
    "                                  marker=dict(\n",
    "                            size=1,)))\n",
    "    return fig\n",
    "\n",
    "def plot_2d(data):\n",
    "    fig = go.Figure()\n",
    "    for (label, class_data) in enumerate(data):\n",
    "        fig.add_trace(go.Scatter(x=class_data[:, 0], \n",
    "                                 y=class_data[:, 1],\n",
    "                                  name=\"Class {}\".format(label+1), \n",
    "                                  mode=\"markers\", \n",
    "                                  marker=dict(\n",
    "                            size=3,)))\n",
    "    return fig\n",
    "\n",
    "def plot_3d_4_views(generator, n_views=4, n_classes=3):\n",
    "    fig = make_subplots(rows=2, cols=2,\n",
    "                        subplot_titles= [\"View {}\".format(view_index)\n",
    "                                         for view_index in range(n_views)],\n",
    "                        specs=[[{'type': 'scatter3d'}, {'type': 'scatter3d'}, ],\n",
    "                                   [{'type': 'scatter3d'},\n",
    "                                    {'type': 'scatter3d'}, ]])\n",
    "    row = 1\n",
    "    col = 1\n",
    "    show_legend = True\n",
    "    # Plot the data for each view and each label\n",
    "    for view_index in range(n_views):\n",
    "        for lab_index in range(n_classes):\n",
    "            concerned_examples = np.where(generator.y == lab_index)[0]\n",
    "            fig.add_trace(\n",
    "                go.Scatter3d(\n",
    "                    x=generator.dataset[view_index][concerned_examples, 0],\n",
    "                    y=generator.dataset[view_index][concerned_examples, 1],\n",
    "                    z=generator.dataset[view_index][concerned_examples, 2],\n",
    "                    text=[generator.sample_ids[ind] for ind in concerned_examples],\n",
    "                    hoverinfo='text',\n",
    "                    legendgroup=\"Class {}\".format(lab_index),\n",
    "                    mode='markers', marker=dict(size=1,\n",
    "                                                color=DEFAULT_PLOTLY_COLORS[lab_index],\n",
    "                                                opacity=0.8),\n",
    "                    name=\"Class {}\".format(lab_index),\n",
    "                    showlegend=show_legend),\n",
    "                row=row, col=col)\n",
    "        show_legend = False\n",
    "        col += 1\n",
    "        if col == 3:\n",
    "            col = 1\n",
    "            row += 1\n",
    "    return fig"
   ]
  },
  {
   "cell_type": "markdown",
   "metadata": {},
   "source": [
    "\n",
    "## StumpsGenerator : the hyper-cube vertices\n",
    "\n",
    "The first and simplest generator we use is implemented in the `StumpsGenerator` class.\n",
    "It generates an hypercube and sets clusters of samples on its vertices for each class.  \n",
    "\n",
    "Let's vizualize it in a 3D example :"
   ]
  },
  {
   "cell_type": "code",
   "execution_count": 2,
   "metadata": {
    "ExecuteTime": {
     "end_time": "2025-07-22T19:18:11.615926Z",
     "start_time": "2025-07-22T19:18:11.614177Z"
    },
    "execution": {
     "iopub.execute_input": "2025-10-07T10:09:33.072610Z",
     "iopub.status.busy": "2025-10-07T10:09:33.072310Z",
     "iopub.status.idle": "2025-10-07T10:09:33.075149Z",
     "shell.execute_reply": "2025-10-07T10:09:33.074694Z"
    },
    "nbsphinx": "hidden"
   },
   "outputs": [],
   "source": [
    "import os\n",
    "\n",
    "if os.environ.get(\"SPHINX_BUILD\") == \"1\":\n",
    "    supp_dir = os.path.join(\"_static\", \"supplementary_material\")\n",
    "else:\n",
    "    supp_dir = os.path.join(\"supplementary_material\")"
   ]
  },
  {
   "cell_type": "code",
   "execution_count": 3,
   "metadata": {
    "ExecuteTime": {
     "end_time": "2025-07-22T19:18:14.891727Z",
     "start_time": "2025-07-22T19:18:14.852505Z"
    },
    "execution": {
     "iopub.execute_input": "2025-10-07T10:09:33.076732Z",
     "iopub.status.busy": "2025-10-07T10:09:33.076554Z",
     "iopub.status.idle": "2025-10-07T10:09:33.205427Z",
     "shell.execute_reply": "2025-10-07T10:09:33.204831Z"
    }
   },
   "outputs": [
    {
     "data": {
      "text/html": [
       "\n",
       "        <iframe\n",
       "            width=\"500\"\n",
       "            height=\"500\"\n",
       "            src=\"_static/supplementary_material/fig2.html\"\n",
       "            frameborder=\"0\"\n",
       "            allowfullscreen\n",
       "            \n",
       "        ></iframe>\n",
       "        "
      ],
      "text/plain": [
       "<IPython.lib.display.IFrame at 0x7f5e93d699a0>"
      ]
     },
     "execution_count": 3,
     "metadata": {},
     "output_type": "execute_result"
    }
   ],
   "source": [
    "from IPython.display import display\n",
    "from IPython.display import IFrame\n",
    "\n",
    "configuration = {\"class_sep\":1, }\n",
    "sub_problem_generator = StumpsGenerator(n_classes=3,\n",
    "                                        n_features=2,\n",
    "                                        random_vertices=True,\n",
    "                                        errors=np.array([0.3,0.3, 0.3]),\n",
    "                                        random_state=np.random.RandomState(42),\n",
    "                                        n_samples_per_class=np.array([300,300,300]),\n",
    "                                        **configuration)\n",
    "data = sub_problem_generator.gen_data()\n",
    "fig = plot_2d(data)\n",
    "\n",
    "fig_path = os.path.join(supp_dir, \"fig2.html\")\n",
    "plotly.offline.plot(fig, filename=fig_path, auto_open=False)\n",
    "IFrame(src=fig_path , width=500, height=500)"
   ]
  },
  {
   "cell_type": "markdown",
   "metadata": {},
   "source": [
    "Here, we specified 2 features as it is the smallest amount of dimentions that can separate 3 classes, but if we specify more, the remaining dimensions will be filled with uniform noise :"
   ]
  },
  {
   "cell_type": "code",
   "execution_count": 4,
   "metadata": {
    "ExecuteTime": {
     "end_time": "2025-07-22T19:19:36.241811Z",
     "start_time": "2025-07-22T19:19:36.211385Z"
    },
    "execution": {
     "iopub.execute_input": "2025-10-07T10:09:33.207423Z",
     "iopub.status.busy": "2025-10-07T10:09:33.207236Z",
     "iopub.status.idle": "2025-10-07T10:09:33.247839Z",
     "shell.execute_reply": "2025-10-07T10:09:33.247222Z"
    }
   },
   "outputs": [
    {
     "data": {
      "text/html": [
       "\n",
       "        <iframe\n",
       "            width=\"500\"\n",
       "            height=\"500\"\n",
       "            src=\"_static/supplementary_material/fig3.html\"\n",
       "            frameborder=\"0\"\n",
       "            allowfullscreen\n",
       "            \n",
       "        ></iframe>\n",
       "        "
      ],
      "text/plain": [
       "<IPython.lib.display.IFrame at 0x7f5e93c9f890>"
      ]
     },
     "execution_count": 4,
     "metadata": {},
     "output_type": "execute_result"
    }
   ],
   "source": [
    "configuration = {\"class_sep\":1, }\n",
    "sub_problem_generator = StumpsGenerator(n_classes=3, \n",
    "                                        n_features=3, \n",
    "                                        random_vertices=True, \n",
    "                                        errors=np.array([0.3,0.3, 0.3]), \n",
    "                                        random_state=np.random.RandomState(42), \n",
    "                                        n_samples_per_class=np.array([300,300,300]), \n",
    "                                        **configuration)\n",
    "data = sub_problem_generator.gen_data()\n",
    "\n",
    "fig3 = plot_3d(data)\n",
    "\n",
    "fig3_path = os.path.join(supp_dir, \"fig3.html\")\n",
    "plotly.offline.plot(fig3, filename=fig3_path, auto_open=False)\n",
    "IFrame(src=fig3_path , width=500, height=500)"
   ]
  },
  {
   "cell_type": "markdown",
   "metadata": {},
   "source": [
    "## RingsGenerator, the concentric spheres"
   ]
  },
  {
   "cell_type": "markdown",
   "metadata": {},
   "source": [
    "This generator generates `n_classes` concentric (possibly multi_dimentional) spheres. "
   ]
  },
  {
   "cell_type": "code",
   "execution_count": 5,
   "metadata": {
    "ExecuteTime": {
     "end_time": "2025-07-22T19:08:24.346665Z",
     "start_time": "2025-07-22T19:08:24.322896Z"
    },
    "execution": {
     "iopub.execute_input": "2025-10-07T10:09:33.249800Z",
     "iopub.status.busy": "2025-10-07T10:09:33.249613Z",
     "iopub.status.idle": "2025-10-07T10:09:33.303870Z",
     "shell.execute_reply": "2025-10-07T10:09:33.303267Z"
    },
    "scrolled": true
   },
   "outputs": [
    {
     "data": {
      "text/html": [
       "\n",
       "        <iframe\n",
       "            width=\"500\"\n",
       "            height=\"500\"\n",
       "            src=\"_static/supplementary_material/fig4.html\"\n",
       "            frameborder=\"0\"\n",
       "            allowfullscreen\n",
       "            \n",
       "        ></iframe>\n",
       "        "
      ],
      "text/plain": [
       "<IPython.lib.display.IFrame at 0x7f5e93cbfd10>"
      ]
     },
     "execution_count": 5,
     "metadata": {},
     "output_type": "execute_result"
    }
   ],
   "source": [
    "configuration = {\"class_sep\":0.5, }\n",
    "sub_problem_generator = RingsGenerator(n_classes=3, \n",
    "                                        n_features=2, \n",
    "                                        random_vertices=True, \n",
    "                                        errors=np.array([0.2,0.2, 0.2]), \n",
    "                                        random_state=np.random.RandomState(42), \n",
    "                                        n_samples_per_class=np.array([300,300,300]), \n",
    "                                        **configuration)\n",
    "data = sub_problem_generator.gen_data()\n",
    "fig4 = plot_2d(data)\n",
    "\n",
    "fig4_path = os.path.join(supp_dir, \"fig4.html\")\n",
    "plotly.offline.plot(fig4, filename=fig4_path, auto_open=False)\n",
    "IFrame(src=fig4_path , width=500, height=500)\n"
   ]
  },
  {
   "cell_type": "markdown",
   "metadata": {},
   "source": [
    "This problem requires a more complex algorithm than a decision tree to be solved, an RBF-based one for example. And it can generate sub-problems with a large number of relevant features : if we plot the same dataset but with 3 features, it builds a sphere."
   ]
  },
  {
   "cell_type": "code",
   "execution_count": 6,
   "metadata": {
    "ExecuteTime": {
     "end_time": "2025-07-22T19:08:24.393001Z",
     "start_time": "2025-07-22T19:08:24.375833Z"
    },
    "execution": {
     "iopub.execute_input": "2025-10-07T10:09:33.305635Z",
     "iopub.status.busy": "2025-10-07T10:09:33.305457Z",
     "iopub.status.idle": "2025-10-07T10:09:33.357013Z",
     "shell.execute_reply": "2025-10-07T10:09:33.356457Z"
    }
   },
   "outputs": [
    {
     "data": {
      "text/html": [
       "\n",
       "        <iframe\n",
       "            width=\"500\"\n",
       "            height=\"500\"\n",
       "            src=\"_static/supplementary_material/fig5.html\"\n",
       "            frameborder=\"0\"\n",
       "            allowfullscreen\n",
       "            \n",
       "        ></iframe>\n",
       "        "
      ],
      "text/plain": [
       "<IPython.lib.display.IFrame at 0x7f5e93b25b80>"
      ]
     },
     "execution_count": 6,
     "metadata": {},
     "output_type": "execute_result"
    }
   ],
   "source": [
    "configuration = {\"class_sep\":0.5, }\n",
    "sub_problem_generator = RingsGenerator(n_classes=3, \n",
    "                                        n_features=3, \n",
    "                                        random_vertices=True, \n",
    "                                        errors=np.array([0.2,0.2, 0.2]), \n",
    "                                        random_state=np.random.RandomState(42), \n",
    "                                        n_samples_per_class=np.array([300,300,300]), \n",
    "                                        **configuration)\n",
    "data = sub_problem_generator.gen_data()\n",
    "fig5 = plot_3d(data)\n",
    "\n",
    "fig5_path = os.path.join(supp_dir, \"fig5.html\")\n",
    "plotly.offline.plot(fig5, filename=fig5_path, auto_open=False)\n",
    "IFrame(src=fig5_path , width=500, height=500)"
   ]
  },
  {
   "cell_type": "markdown",
   "metadata": {},
   "source": [
    "## MAGE usage : generator configuration\n",
    "\n",
    "In order to use these generators in MAGE at their full potential, we need to set some configuration.\n",
    "First, let us initialize MAGE with the configuration of the proevious tutorial : "
   ]
  },
  {
   "cell_type": "code",
   "execution_count": 7,
   "metadata": {
    "ExecuteTime": {
     "end_time": "2025-07-22T19:08:24.430124Z",
     "start_time": "2025-07-22T19:08:24.427006Z"
    },
    "execution": {
     "iopub.execute_input": "2025-10-07T10:09:33.358794Z",
     "iopub.status.busy": "2025-10-07T10:09:33.358602Z",
     "iopub.status.idle": "2025-10-07T10:09:33.362505Z",
     "shell.execute_reply": "2025-10-07T10:09:33.361909Z"
    }
   },
   "outputs": [],
   "source": [
    "name = \"tuto\"\n",
    "n_views = 4\n",
    "n_classes = 3\n",
    "error_matrix = [\n",
    "   [0.4, 0.4, 0.4, 0.4],\n",
    "   [0.35, 0.4, 0.4, 0.4],\n",
    "   [0.4, 0.4, 0.4, 0.4]\n",
    "]\n",
    "n_samples = 2000\n",
    "n_features = 3\n",
    "class_weights = [0.333, 0.333, 0.333,]\n",
    "random_state = np.random.RandomState(42)\n",
    "complementarity = 0.1\n",
    "redundancy = 0.2\n",
    "mutual_error = 0.01"
   ]
  },
  {
   "cell_type": "markdown",
   "metadata": {},
   "source": [
    "Then, let's configure the four monoview generators that will build our multiview dataset :"
   ]
  },
  {
   "cell_type": "code",
   "execution_count": 8,
   "metadata": {
    "ExecuteTime": {
     "end_time": "2025-07-22T19:08:24.475609Z",
     "start_time": "2025-07-22T19:08:24.473350Z"
    },
    "execution": {
     "iopub.execute_input": "2025-10-07T10:09:33.364144Z",
     "iopub.status.busy": "2025-10-07T10:09:33.363968Z",
     "iopub.status.idle": "2025-10-07T10:09:33.366928Z",
     "shell.execute_reply": "2025-10-07T10:09:33.366333Z"
    }
   },
   "outputs": [],
   "source": [
    "sub_problem_type = [\"StumpsGenerator\", \n",
    "                   \"RingsGenerator\", \n",
    "                   \"RingsGenerator\", \n",
    "                   \"StumpsGenerator\"]\n",
    "sub_problem_configuration = [\n",
    "    {\"class_sep\":1, },\n",
    "    {\"class_sep\":1, }, \n",
    "    {\"class_sep\":1, },\n",
    "    {\"class_sep\":1, }, \n",
    "    \n",
    "]"
   ]
  },
  {
   "cell_type": "markdown",
   "metadata": {},
   "source": [
    "Now let us generate the dataset"
   ]
  },
  {
   "cell_type": "code",
   "execution_count": 9,
   "metadata": {
    "ExecuteTime": {
     "end_time": "2025-07-22T19:08:24.710355Z",
     "start_time": "2025-07-22T19:08:24.518662Z"
    },
    "execution": {
     "iopub.execute_input": "2025-10-07T10:09:33.368593Z",
     "iopub.status.busy": "2025-10-07T10:09:33.368405Z",
     "iopub.status.idle": "2025-10-07T10:09:33.706351Z",
     "shell.execute_reply": "2025-10-07T10:09:33.705798Z"
    }
   },
   "outputs": [],
   "source": [
    "generator = MultiViewGaussianSubProblemsGenerator(name=name, n_views=n_views,\n",
    "                                          n_classes=n_classes,\n",
    "                                          n_samples=n_samples,\n",
    "                                          n_features=n_features,\n",
    "                                          class_weights=class_weights,\n",
    "                                          error_matrix=error_matrix,\n",
    "                                          random_state=random_state,\n",
    "                                          redundancy=redundancy,\n",
    "                                          complementarity=complementarity,\n",
    "                                          mutual_error=mutual_error, \n",
    "                                          sub_problem_configurations=sub_problem_configuration,\n",
    "                                          sub_problem_generators=sub_problem_type)\n",
    "\n",
    "dataset, y = generator.generate_multi_view_dataset()"
   ]
  },
  {
   "cell_type": "markdown",
   "metadata": {},
   "source": [
    "Let us plot the dataset views : "
   ]
  },
  {
   "cell_type": "code",
   "execution_count": 10,
   "metadata": {
    "ExecuteTime": {
     "end_time": "2025-07-22T19:08:24.745802Z",
     "start_time": "2025-07-22T19:08:24.715039Z"
    },
    "execution": {
     "iopub.execute_input": "2025-10-07T10:09:33.708209Z",
     "iopub.status.busy": "2025-10-07T10:09:33.708034Z",
     "iopub.status.idle": "2025-10-07T10:09:33.813756Z",
     "shell.execute_reply": "2025-10-07T10:09:33.813220Z"
    }
   },
   "outputs": [
    {
     "data": {
      "text/html": [
       "\n",
       "        <iframe\n",
       "            width=\"500\"\n",
       "            height=\"500\"\n",
       "            src=\"_static/supplementary_material/fig6.html\"\n",
       "            frameborder=\"0\"\n",
       "            allowfullscreen\n",
       "            \n",
       "        ></iframe>\n",
       "        "
      ],
      "text/plain": [
       "<IPython.lib.display.IFrame at 0x7f5e97c2aed0>"
      ]
     },
     "execution_count": 10,
     "metadata": {},
     "output_type": "execute_result"
    }
   ],
   "source": [
    "fig6 = plot_3d_4_views(generator)\n",
    "fig6_path = os.path.join(supp_dir, \"fig6.html\")\n",
    "plotly.offline.plot(fig6, filename=fig6_path, auto_open=False)\n",
    "IFrame(src=fig6_path , width=500, height=500)"
   ]
  }
 ],
 "metadata": {
  "kernelspec": {
   "display_name": "Python 3",
   "language": "python",
   "name": "python3"
  },
  "language_info": {
   "codemirror_mode": {
    "name": "ipython",
    "version": 3
   },
   "file_extension": ".py",
   "mimetype": "text/x-python",
   "name": "python",
   "nbconvert_exporter": "python",
   "pygments_lexer": "ipython3",
   "version": "3.12.11"
  }
 },
 "nbformat": 4,
 "nbformat_minor": 4
}
