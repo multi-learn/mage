{
 "cells": [
  {
   "cell_type": "markdown",
   "metadata": {
    "collapsed": true,
    "pycharm": {
     "name": "#%% md\n"
    }
   },
   "source": [
    "# MAGE tutorial : the sample types \n",
    "\n",
    "In this tutorial, we will learn how to generate a multiview dataset presenting :\n",
    "\n",
    "* redundancy, \n",
    "* complementarity and\n",
    "* mutual error. \n",
    "\n",
    "## Definitions\n",
    "\n",
    "In this tutorial, will will denote a sample as \n",
    "\n",
    "* **Redundant** if all the views have enough information to classify it correctly without collaboration, \n",
    "* **Complementary** if only some of the views have enough information to classify it correctly without collaboration it is useful the assess the ability to extract the relevant information among the views.\n",
    "* Part of the **Mutual Error** if none of the views has enough information to classify it correctly without collaboration. A mutliview classifier able to classify these examples is apt to get information from several features from different views and combine it to classify the examples.\n",
    "\n",
    "\n",
    "\n",
    "\n",
    "## Hands on experience : initialization \n",
    "\n",
    "We will initialize the arguments as earlier :"
   ]
  },
  {
   "metadata": {
    "nbsphinx": "hidden",
    "ExecuteTime": {
     "end_time": "2025-07-22T18:49:08.374486Z",
     "start_time": "2025-07-22T18:49:08.372575Z"
    }
   },
   "cell_type": "code",
   "source": [
    "import warnings\n",
    "warnings.filterwarnings(\"ignore\", category=DeprecationWarning)\n",
    "warnings.filterwarnings(\"ignore\", category=FutureWarning)"
   ],
   "outputs": [],
   "execution_count": 110
  },
  {
   "metadata": {
    "nbsphinx": "hidden"
   },
   "cell_type": "code",
   "source": [
    "import os\n",
    "\n",
    "dir_path = os.path.dirname(os.path.realpath(\"__file__\"))\n",
    "if os.environ.get(\"SPHINX_BUILD\") == \"1\":\n",
    "    supp_dir = os.path.join(\"_static\", \"supplementary_material\")\n",
    "else:\n",
    "    supp_dir = os.path.join(\"supplementary_material\")"
   ],
   "outputs": [],
   "execution_count": 111
  },
  {
   "metadata": {
    "pycharm": {
     "is_executing": false,
     "name": "#%%\n"
    },
    "ExecuteTime": {
     "end_time": "2025-07-22T18:49:08.430892Z",
     "start_time": "2025-07-22T18:49:08.427445Z"
    }
   },
   "cell_type": "code",
   "source": [
    "from multiview_generator.gaussian_classes import MultiViewGaussianSubProblemsGenerator\n",
    "from tabulate import tabulate\n",
    "import numpy as np\n",
    "import os\n",
    "\n",
    "random_state = np.random.RandomState(42)\n",
    "name = \"tuto\"\n",
    "n_views = 4\n",
    "n_classes = 3\n",
    "error_matrix = [\n",
    "   [0.4, 0.4, 0.4, 0.4],\n",
    "   [0.55, 0.4, 0.4, 0.4],\n",
    "   [0.4, 0.5, 0.52, 0.55]\n",
    "]\n",
    "n_samples = 2000\n",
    "n_features = 3\n",
    "class_weights = [0.333, 0.333, 0.333,]"
   ],
   "outputs": [],
   "execution_count": 112
  },
  {
   "metadata": {
    "pycharm": {
     "name": "#%% md\n"
    }
   },
   "cell_type": "markdown",
   "source": "To control the three previously introduced characteristics, we have to provide three floats :"
  },
  {
   "metadata": {
    "pycharm": {
     "is_executing": false,
     "name": "#%%\n"
    },
    "ExecuteTime": {
     "end_time": "2025-07-22T18:49:08.476464Z",
     "start_time": "2025-07-22T18:49:08.474509Z"
    }
   },
   "cell_type": "code",
   "source": [
    "complementarity = 0.3\n",
    "redundancy = 0.2\n",
    "mutual_error = 0.1"
   ],
   "outputs": [],
   "execution_count": 113
  },
  {
   "metadata": {
    "pycharm": {
     "name": "#%% md\n"
    }
   },
   "cell_type": "markdown",
   "source": "Now we can generate the dataset with the given configuration."
  },
  {
   "metadata": {
    "pycharm": {
     "is_executing": false,
     "name": "#%% \n"
    },
    "ExecuteTime": {
     "end_time": "2025-07-22T18:49:08.614197Z",
     "start_time": "2025-07-22T18:49:08.520327Z"
    }
   },
   "cell_type": "code",
   "source": [
    "generator = MultiViewGaussianSubProblemsGenerator(name=name, n_views=n_views,\n",
    "                                          n_classes=n_classes,\n",
    "                                          n_samples=n_samples,\n",
    "                                          n_features=n_features,\n",
    "                                          class_weights=class_weights,\n",
    "                                          error_matrix=error_matrix,\n",
    "                                          random_state=random_state,\n",
    "                                          redundancy=redundancy,\n",
    "                                          complementarity=complementarity,\n",
    "                                          mutual_error=mutual_error)\n",
    "\n",
    "dataset, y = generator.generate_multi_view_dataset()"
   ],
   "outputs": [],
   "execution_count": 114
  },
  {
   "metadata": {},
   "cell_type": "markdown",
   "source": ""
  },
  {
   "metadata": {
    "pycharm": {
     "name": "#%% md\n"
    }
   },
   "cell_type": "markdown",
   "source": [
    "Here, the generator distinguishes four types of examples, the thrre previously introduced and the ones that were used to fill the dataset.\n",
    "\n",
    "## Dataset analysis using [SuMMIT](https://gitlab.lis-lab.fr/baptiste.bauvin/summit)\n",
    "\n",
    "In order to differentiate them, we use `generator.sample_ids`. In this attribute, we can find an array with the ids of all the generated exmaples, characterizing their type :"
   ]
  },
  {
   "metadata": {
    "pycharm": {
     "is_executing": false,
     "name": "#%%\n"
    },
    "ExecuteTime": {
     "end_time": "2025-07-22T18:49:08.621719Z",
     "start_time": "2025-07-22T18:49:08.619335Z"
    }
   },
   "cell_type": "code",
   "source": "generator.sample_ids[:10]",
   "outputs": [
    {
     "data": {
      "text/plain": [
       "['0_l_0_m-0_0.37-1_0.04-2_0.27-3_0.81',\n",
       " '1_l_0_m-0_0.48-1_1.28-2_0.28-3_0.55',\n",
       " '2_l_0_m-0_0.96-1_0.32-2_0.08-3_0.56',\n",
       " '3_l_0_m-0_2.49-1_0.18-2_0.97-3_0.35',\n",
       " '4_l_0_m-0_0.11-1_0.92-2_0.21-3_0.4',\n",
       " '5_l_0_m-0_0.84-1_0.43-2_0.48-3_1.17',\n",
       " '6_l_0_m-0_0.84-1_1.41-2_0.13-3_0.46',\n",
       " '7_l_0_m-0_0.14-1_0.64-2_0.62-3_0.4',\n",
       " '8_l_0_m-0_0.04-1_0.31-2_0.63-3_0.21',\n",
       " '9_l_0_m-0_0.86-1_1.18-2_0.09-3_0.35']"
      ]
     },
     "execution_count": 115,
     "metadata": {},
     "output_type": "execute_result"
    }
   ],
   "execution_count": 115
  },
  {
   "metadata": {},
   "cell_type": "markdown",
   "source": ""
  },
  {
   "metadata": {
    "pycharm": {
     "name": "#%% md\n"
    }
   },
   "cell_type": "markdown",
   "source": [
    "Here, we printed the 10 first ones, and we have :\n",
    "\n",
    "* the redundant samples tagged `_r-`,\n",
    "* the mutual error ones tagged `_m-`,\n",
    "* the complementary ones tagged `_c-` and\n",
    "<!-- * the filling ones tagged `example_`.  -->\n",
    "\n",
    "To get a visualization on these properties, we will use  [SuMMIT](https://gitlab.lis-lab.fr/baptiste.bauvin/summit) with decision trees on each view."
   ]
  },
  {
   "metadata": {
    "pycharm": {
     "is_executing": false,
     "name": "#%% \n"
    },
    "ExecuteTime": {
     "end_time": "2025-07-22T18:49:20.267322Z",
     "start_time": "2025-07-22T18:49:08.667020Z"
    }
   },
   "cell_type": "code",
   "source": [
    "from summit.execute import execute\n",
    "\n",
    "print(supp_dir)\n",
    "generator.to_hdf5_mc(supp_dir)\n",
    "execute(config_path=os.path.join(supp_dir, \"config_summit.yml\"))\n"
   ],
   "outputs": [
    {
     "name": "stdout",
     "output_type": "stream",
     "text": [
      "supplementary_material\n",
      "selected labels  [0 0 0 ... 2 2 2]\n",
      "self.dataset  ['label_1' 'label_2' 'label_3']\n"
     ]
    }
   ],
   "execution_count": 116
  },
  {
   "cell_type": "markdown",
   "metadata": {},
   "source": [
    "To extract the result, we need a small script that will fetch the right folder :"
   ]
  },
  {
   "metadata": {
    "tags": [
     "nbsphinx-hidden"
    ],
    "ExecuteTime": {
     "end_time": "2025-07-22T18:49:20.314812Z",
     "start_time": "2025-07-22T18:49:20.312646Z"
    }
   },
   "cell_type": "code",
   "source": [
    "def get_iframe_path(filename):\n",
    "    # détecte si on est en Sphinx (variable d'environnement ou autre)\n",
    "    if os.environ.get(\"SPHINX_BUILD\") == \"1\":\n",
    "        # chemin dans _static/tuto_latest lors du build\n",
    "        return f\"_static/tuto_latest/{filename}\"\n",
    "    else:\n",
    "        # chemin direct dans dossier dynamique lors du notebook interactif\n",
    "        base_path = os.path.join('supplementary_material', 'tuto')\n",
    "        latest_dir = fetch_latest_dir(os.listdir(base_path))\n",
    "        return os.path.join(base_path, latest_dir, filename)"
   ],
   "outputs": [],
   "execution_count": 117
  },
  {
   "metadata": {
    "pycharm": {
     "is_executing": false
    },
    "ExecuteTime": {
     "end_time": "2025-07-22T18:49:20.363918Z",
     "start_time": "2025-07-22T18:49:20.359295Z"
    }
   },
   "cell_type": "code",
   "source": [
    "from datetime import datetime\n",
    "from IPython.display import display\n",
    "from IPython.display import IFrame\n",
    "\n",
    "def fetch_latest_dir(experiment_directories, latest_date=datetime(1560,12,25,12,12)):\n",
    "    for experiment_directory in experiment_directories:\n",
    "        experiment_time = experiment_directory.split(\"-\")[0].split(\"_\")[1:]\n",
    "        experiment_time += experiment_directory.split('-')[1].split(\"_\")[:2]\n",
    "        experiment_time = map(int, experiment_time)\n",
    "        dt = datetime(*experiment_time)\n",
    "        if dt > latest_date:\n",
    "            latest_date = dt\n",
    "            latest_experiment_dir = experiment_directory\n",
    "    return latest_experiment_dir\n",
    "\n",
    "experiment_directory = fetch_latest_dir(os.listdir(os.path.join(supp_dir, 'tuto')))\n",
    "error_fig_path = os.path.join(supp_dir, 'tuto', experiment_directory, \"error_analysis_2D.html\")\n",
    "if os.path.exists(error_fig_path) :\n",
    "    iframe_path = get_iframe_path(\"error_analysis_2D.html\")\n",
    "    display(IFrame(src=error_fig_path, width=900, height=500))\n",
    "else:\n",
    "    print(f\" FFile not Found : {error_fig_path}\")"
   ],
   "outputs": [
    {
     "data": {
      "text/plain": [
       "<IPython.lib.display.IFrame at 0x7310e0b9cb30>"
      ],
      "text/html": [
       "\n",
       "        <iframe\n",
       "            width=\"900\"\n",
       "            height=\"500\"\n",
       "            src=\"supplementary_material/tuto/started_2025_07_22-20_49_/error_analysis_2D.html\"\n",
       "            frameborder=\"0\"\n",
       "            allowfullscreen\n",
       "            \n",
       "        ></iframe>\n",
       "        "
      ]
     },
     "metadata": {},
     "output_type": "display_data"
    }
   ],
   "execution_count": 118
  },
  {
   "cell_type": "markdown",
   "metadata": {
    "pycharm": {
     "name": "#%% md\n"
    }
   },
   "source": [
    "This graph represents the failure of each classifier on each sample. So a black rectangle on row i, column j means that classifier j always failed to classify example i. \n",
    "So, by [zooming in](https://baptiste.bauvin.pages.lis-lab.fr/summit/_images/zoom_plotly.gif), we can focus on several samples and we see that the type of samples are well defined as the mutual error ones are systematically misclassified by the decision trees, the redundant ones are well-classified and the complementary ones are classified only by a portion of the views. \n",
    "  \n",
    "\n"
   ]
  },
  {
   "cell_type": "code",
   "metadata": {
    "ExecuteTime": {
     "end_time": "2025-07-22T18:49:20.412029Z",
     "start_time": "2025-07-22T18:49:20.408555Z"
    }
   },
   "source": [
    "fig_path  = os.path.join(supp_dir, 'tuto', experiment_directory, r'tuto-mean_on_5_iter-accuracy_score*-class.html')\n",
    "if os.path.exists(fig_path):\n",
    "    iframe_path = get_iframe_path(\"tuto-mean_on_5_iter-accuracy_score*-class.html'\")\n",
    "    display(IFrame(src=fig_path , width=900, height=500))\n",
    "else:\n",
    "    print(f\" File not found: {fig_path}\")"
   ],
   "outputs": [
    {
     "data": {
      "text/plain": [
       "<IPython.lib.display.IFrame at 0x7310e022cb30>"
      ],
      "text/html": [
       "\n",
       "        <iframe\n",
       "            width=\"900\"\n",
       "            height=\"500\"\n",
       "            src=\"supplementary_material/tuto/started_2025_07_22-20_49_/tuto-mean_on_5_iter-accuracy_score*-class.html\"\n",
       "            frameborder=\"0\"\n",
       "            allowfullscreen\n",
       "            \n",
       "        ></iframe>\n",
       "        "
      ]
     },
     "metadata": {},
     "output_type": "display_data"
    }
   ],
   "execution_count": 119
  }
 ],
 "metadata": {
  "kernelspec": {
   "display_name": "Python 3",
   "language": "python",
   "name": "python3"
  },
  "language_info": {
   "codemirror_mode": {
    "name": "ipython",
    "version": 3
   },
   "file_extension": ".py",
   "mimetype": "text/x-python",
   "name": "python",
   "nbconvert_exporter": "python",
   "pygments_lexer": "ipython3",
   "version": "3.8.10"
  },
  "pycharm": {
   "stem_cell": {
    "cell_type": "raw",
    "metadata": {
     "collapsed": false
    },
    "source": []
   }
  }
 },
 "nbformat": 4,
 "nbformat_minor": 1
}
