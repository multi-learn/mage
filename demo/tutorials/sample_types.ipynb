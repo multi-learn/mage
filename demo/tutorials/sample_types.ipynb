{
 "cells": [
  {
   "cell_type": "markdown",
   "metadata": {
    "collapsed": true,
    "pycharm": {
     "name": "#%% md\n"
    }
   },
   "source": [
    "# MAGE tutorial : the sample types \n",
    "\n",
    "In this tutorial, we will learn how to generate a multiview dataset presenting :\n",
    "\n",
    "* redundancy, \n",
    "* complementarity and\n",
    "* mutual error. \n",
    "\n",
    "## Definitions\n",
    "\n",
    "In this tutorial, will will denote a sample as \n",
    "\n",
    "* **Redundant** if all the views have enough information to classify it correctly without collaboration, \n",
    "* **Complementary** if only some of the views have enough information to classify it correctly without collaboration it is useful the assess the ability to extract the relevant information among the views.\n",
    "* Part of the **Mutual Error** if none of the views has enough information to classify it correctly without collaboration. A mutliview classifier able to classify these examples is apt to get information from several features from different views and combine it to classify the examples.\n",
    "\n",
    "\n",
    "\n",
    "\n",
    "## Hands on experience : initialization \n",
    "\n",
    "We will initialize the arguments as earlier : "
   ]
  },
  {
   "cell_type": "code",
   "execution_count": 1,
   "metadata": {
    "pycharm": {
     "is_executing": false,
     "name": "#%%\n"
    }
   },
   "outputs": [],
   "source": [
    "from multiview_generator.gaussian_classes import MultiViewGaussianSubProblemsGenerator\n",
    "from tabulate import tabulate\n",
    "import numpy as np\n",
    "import os\n",
    "\n",
    "random_state = np.random.RandomState(42)\n",
    "name = \"tuto\"\n",
    "n_views = 4\n",
    "n_classes = 3\n",
    "error_matrix = [\n",
    "   [0.4, 0.4, 0.4, 0.4],\n",
    "   [0.55, 0.4, 0.4, 0.4],\n",
    "   [0.4, 0.5, 0.52, 0.55]\n",
    "]\n",
    "n_samples = 2000\n",
    "n_features = 3\n",
    "class_weights = [0.333, 0.333, 0.333,]"
   ]
  },
  {
   "cell_type": "markdown",
   "metadata": {
    "pycharm": {
     "name": "#%% md\n"
    }
   },
   "source": [
    "To control the three previously introduced characteristics, we have to provide three floats : "
   ]
  },
  {
   "cell_type": "code",
   "execution_count": 2,
   "metadata": {
    "pycharm": {
     "is_executing": false,
     "name": "#%%\n"
    }
   },
   "outputs": [],
   "source": [
    "complementarity = 0.3\n",
    "redundancy = 0.2\n",
    "mutual_error = 0.1"
   ]
  },
  {
   "cell_type": "markdown",
   "metadata": {
    "pycharm": {
     "name": "#%% md\n"
    }
   },
   "source": [
    "Now we can generate the dataset with the given configuration. "
   ]
  },
  {
   "cell_type": "code",
   "execution_count": 3,
   "metadata": {
    "pycharm": {
     "is_executing": false,
     "name": "#%% \n"
    }
   },
   "outputs": [],
   "source": [
    "generator = MultiViewGaussianSubProblemsGenerator(name=name, n_views=n_views, \n",
    "                                          n_classes=n_classes, \n",
    "                                          n_samples=n_samples, \n",
    "                                          n_features=n_features, \n",
    "                                          class_weights=class_weights, \n",
    "                                          error_matrix=error_matrix, \n",
    "                                          random_state=random_state, \n",
    "                                          redundancy=redundancy, \n",
    "                                          complementarity=complementarity, \n",
    "                                          mutual_error=mutual_error)\n",
    "\n",
    "dataset, y = generator.generate_multi_view_dataset()"
   ]
  },
  {
   "cell_type": "markdown",
   "metadata": {
    "pycharm": {
     "name": "#%% md\n"
    }
   },
   "source": [
    "Here, the generator distinguishes four types of examples, the thrre previously introduced and the ones that were used to fill the dataset. \n",
    "\n",
    "## Dataset analysis using [SuMMIT](https://gitlab.lis-lab.fr/baptiste.bauvin/summit)\n",
    "\n",
    "In order to differentiate them, we use `generator.sample_ids`. In this attribute, we can find an array with the ids of all the generated exmaples, characterizing their type :"
   ]
  },
  {
   "cell_type": "code",
   "execution_count": 4,
   "metadata": {
    "pycharm": {
     "is_executing": false,
     "name": "#%%\n"
    }
   },
   "outputs": [
    {
     "data": {
      "text/plain": [
       "['0_l_0_m-0_0.37-1_0.04-2_0.27-3_0.81',\n",
       " '1_l_0_m-0_0.48-1_1.28-2_0.28-3_0.55',\n",
       " '2_l_0_m-0_0.96-1_0.32-2_0.08-3_0.56',\n",
       " '3_l_0_m-0_2.49-1_0.18-2_0.97-3_0.35',\n",
       " '4_l_0_m-0_0.11-1_0.92-2_0.21-3_0.4',\n",
       " '5_l_0_m-0_0.84-1_0.43-2_0.48-3_1.17',\n",
       " '6_l_0_m-0_0.84-1_1.41-2_0.13-3_0.46',\n",
       " '7_l_0_m-0_0.14-1_0.64-2_0.62-3_0.4',\n",
       " '8_l_0_m-0_0.04-1_0.31-2_0.63-3_0.21',\n",
       " '9_l_0_m-0_0.86-1_1.18-2_0.09-3_0.35']"
      ]
     },
     "execution_count": 4,
     "metadata": {},
     "output_type": "execute_result"
    }
   ],
   "source": [
    "generator.sample_ids[:10]"
   ]
  },
  {
   "cell_type": "markdown",
   "metadata": {
    "pycharm": {
     "name": "#%% md\n"
    }
   },
   "source": [
    "Here, we printed the 10 first ones, and we have : \n",
    "\n",
    "* the redundant samples tagged `_r-`,\n",
    "* the mutual error ones tagged `_m-`,\n",
    "* the complementary ones tagged `_c-` and\n",
    "<!-- * the filling ones tagged `example_`.  -->\n",
    "\n",
    "To get a visualization on these properties, we will use SuMMIT with decision trees on each view. "
   ]
  },
  {
   "cell_type": "code",
   "execution_count": 6,
   "metadata": {
    "pycharm": {
     "is_executing": false,
     "name": "#%% \n"
    }
   },
   "outputs": [],
   "source": [
    "from summit.execute import execute  \n",
    "\n",
    "generator.to_hdf5_mc('supplementary_material')\n",
    "execute(config_path=os.path.join('supplementary_material','config_summit.yml'))\n"
   ]
  },
  {
   "cell_type": "markdown",
   "metadata": {},
   "source": [
    "To extract the result, we need a small script that will fetch the right folder :"
   ]
  },
  {
   "cell_type": "code",
   "execution_count": 7,
   "metadata": {
    "pycharm": {
     "is_executing": false
    }
   },
   "outputs": [
    {
     "data": {
      "text/html": [
       "\n",
       "        <iframe\n",
       "            width=\"900\"\n",
       "            height=\"500\"\n",
       "            src=\"supplementary_material/tuto/started_2021_06_10-09_11_/error_analysis_2D.html\"\n",
       "            frameborder=\"0\"\n",
       "            allowfullscreen\n",
       "        ></iframe>\n",
       "        "
      ],
      "text/plain": [
       "<IPython.lib.display.IFrame at 0x7f149d3a6f98>"
      ]
     },
     "execution_count": 7,
     "metadata": {},
     "output_type": "execute_result"
    }
   ],
   "source": [
    "import os\n",
    "from datetime import datetime\n",
    "from IPython.display import display\n",
    "from IPython.display import IFrame\n",
    "\n",
    "def fetch_latest_dir(experiment_directories, latest_date=datetime(1560,12,25,12,12)):\n",
    "    for experiment_directory in experiment_directories:\n",
    "        experiment_time = experiment_directory.split(\"-\")[0].split(\"_\")[1:]\n",
    "        experiment_time += experiment_directory.split('-')[1].split(\"_\")[:2]\n",
    "        experiment_time = map(int, experiment_time)\n",
    "        dt = datetime(*experiment_time)\n",
    "        if dt > latest_date:\n",
    "            latest_date=dt\n",
    "            latest_experiment_dir = experiment_directory\n",
    "    return latest_experiment_dir\n",
    "\n",
    "experiment_directory = fetch_latest_dir(os.listdir(os.path.join('supplementary_material', 'tuto')))\n",
    "error_fig_path = os.path.join('supplementary_material','tuto', experiment_directory, \"error_analysis_2D.html\")\n",
    "\n",
    "IFrame(src=error_fig_path, width=900, height=500)\n"
   ]
  },
  {
   "cell_type": "markdown",
   "metadata": {
    "pycharm": {
     "name": "#%% md\n"
    }
   },
   "source": [
    "This graph represents the failure of each classifier on each sample. So a black rectangle on row i, column j means that classifier j always failed to classify example i. \n",
    "So, by [zooming in](link_to_gif), we can focus on several samples and we see that the type of samples are well defined as the mutual error ones are systematically misclassified by the decision trees, the redundant ones are well-classified and the complementary ones are classified only by a portion of the views. \n",
    "  \n",
    "\n"
   ]
  }
 ],
 "metadata": {
  "kernelspec": {
   "display_name": "Python 3",
   "language": "python",
   "name": "python3"
  },
  "language_info": {
   "codemirror_mode": {
    "name": "ipython",
    "version": 3
   },
   "file_extension": ".py",
   "mimetype": "text/x-python",
   "name": "python",
   "nbconvert_exporter": "python",
   "pygments_lexer": "ipython3",
   "version": "3.6.8"
  },
  "pycharm": {
   "stem_cell": {
    "cell_type": "raw",
    "metadata": {
     "collapsed": false
    },
    "source": []
   }
  }
 },
 "nbformat": 4,
 "nbformat_minor": 1
}
