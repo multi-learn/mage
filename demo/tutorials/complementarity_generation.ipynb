{
 "cells": [
  {
   "cell_type": "code",
   "execution_count": 7,
   "metadata": {
    "collapsed": true,
    "pycharm": {
     "is_executing": false
    }
   },
   "outputs": [
    {
     "name": "stdout",
     "text": [
      "[[0, 1, 2, 3, 4, 5, 6, 7, 8, 9, 10, 11, 12, 13, 14, 15, 16, 17, 18, 19, 20, 21, 22, 23, 24, 25, 26, 27, 28, 29, 30, 31, 32, 33, 34, 35, 36, 37, 38, 39, 40, 41, 42, 43, 44, 45, 46, 47, 48, 49, 50, 51, 52, 53, 54, 55, 56, 57, 58, 59, 60, 61, 62, 63, 64, 65, 66, 67, 68, 69, 70, 71, 72, 73, 74, 75, 76, 77, 78, 79, 80, 81, 82, 83, 84, 85, 86, 87, 88, 89, 90, 91, 92, 93, 94, 95, 96, 97, 98, 99], [100, 101, 102, 103, 104, 105, 106, 107, 108, 109, 110, 111, 112, 113, 114, 115, 116, 117, 118, 119, 120, 121, 122, 123, 124, 125, 126, 127, 128, 129, 130, 131, 132, 133, 134, 135, 136, 137, 138, 139, 140, 141, 142, 143, 144, 145, 146, 147, 148, 149, 150, 151, 152, 153, 154, 155, 156, 157, 158, 159, 160, 161, 162, 163, 164, 165, 166, 167, 168, 169, 170, 171, 172, 173, 174, 175, 176, 177, 178, 179, 180, 181, 182, 183, 184, 185, 186, 187, 188, 189, 190, 191, 192, 193, 194, 195, 196, 197, 198, 199], [200, 201, 202, 203, 204, 205, 206, 207, 208, 209, 210, 211, 212, 213, 214, 215, 216, 217, 218, 219, 220, 221, 222, 223, 224, 225, 226, 227, 228, 229, 230, 231, 232, 233, 234, 235, 236, 237, 238, 239, 240, 241, 242, 243, 244, 245, 246, 247, 248, 249, 250, 251, 252, 253, 254, 255, 256, 257, 258, 259, 260, 261, 262, 263, 264, 265, 266, 267, 268, 269, 270, 271, 272, 273, 274, 275, 276, 277, 278, 279, 280, 281, 282, 283, 284, 285, 286, 287, 288, 289, 290, 291, 292, 293, 294, 295, 296, 297, 298, 299]]\n"
     ],
     "output_type": "stream"
    }
   ],
   "source": [
    "import numpy as np\n",
    "from multiview_generator.multiple_sub_problems import MultiViewSubProblemsGenerator\n",
    "\n",
    "n_views=3\n",
    "n_classes=3\n",
    "complementarity = np.array([0.3 for _ in range(n_classes)]).reshape((n_classes, 1))\n",
    "complementarity_level = np.array([0.5 for _ in range(n_classes)]).reshape((n_classes, 1))\n",
    "n_examples_per_class = np.array([100 for _ in range(n_classes)])\n",
    "available_init_indices = [[i+(100*class_ind) for i in range(100)] for class_ind in range(n_classes)]\n",
    "error_matrix = np.zeros((12,12))\n",
    "complementarity_examples = [_ for _ in range(n_classes)]\n",
    "good_views_indices = [_ for _ in range(n_classes)]\n",
    "bad_views_indices = [_ for _ in range(n_classes)]\n",
    "rs = np.random.RandomState(42)\n",
    "example_ids = np.zeros(sum(n_examples_per_class), dtype=\"S100\")\n",
    "\n",
    "print(available_init_indices)"
   ]
  },
  {
   "cell_type": "code",
   "execution_count": 8,
   "outputs": [
    {
     "name": "stdout",
     "text": [
      "[[array([0, 2]), array([0, 2]), array([0, 2]), array([0, 1]), array([1, 2]), array([0, 1]), array([0, 2]), array([0, 1]), array([0, 2]), array([1, 2]), array([0, 2]), array([0, 1]), array([0, 2]), array([0, 2]), array([1, 2]), array([0, 2]), array([0, 1]), array([0, 2]), array([0, 1]), array([0, 2]), array([0, 2]), array([1, 2]), array([0, 2]), array([1, 2]), array([0, 2]), array([0, 1]), array([0, 1]), array([0, 2]), array([0, 2]), array([0, 2])], [array([0, 2]), array([1, 2]), array([0, 2]), array([0, 2]), array([0, 1]), array([1, 2]), array([0, 1]), array([1, 2]), array([1, 2]), array([0, 1]), array([0, 1]), array([0, 1]), array([1, 2]), array([0, 2]), array([0, 2]), array([0, 2]), array([0, 2]), array([1, 2]), array([1, 2]), array([0, 1]), array([0, 2]), array([1, 2]), array([0, 1]), array([0, 1]), array([0, 2]), array([0, 1]), array([1, 2]), array([1, 2]), array([1, 2]), array([0, 2])], [array([1, 2]), array([0, 2]), array([0, 1]), array([0, 1]), array([1, 2]), array([0, 1]), array([1, 2]), array([0, 1]), array([1, 2]), array([1, 2]), array([1, 2]), array([0, 2]), array([0, 1]), array([0, 2]), array([0, 1]), array([0, 1]), array([0, 2]), array([0, 1]), array([1, 2]), array([0, 2]), array([0, 2]), array([0, 1]), array([0, 1]), array([0, 1]), array([0, 1]), array([0, 2]), array([0, 2]), array([1, 2]), array([0, 2]), array([1, 2])]]\n"
     ],
     "output_type": "stream"
    }
   ],
   "source": [
    "def _remove_available(available_indices, to_remove, class_index):\n",
    "    \"\"\"\n",
    "    Removes indices from the available ones array\n",
    "    \"\"\"\n",
    "    available_indices[class_index] = [ind\n",
    "                                      for ind\n",
    "                                      in available_indices[class_index]\n",
    "                                      if ind not in to_remove]\n",
    "    return available_indices\n",
    "\n",
    "def _update_example_indices(target, target_name, class_ind):\n",
    "    for ind, target_ind in enumerate(target):\n",
    "        example_ids[target_ind] = target_name + \"_{}_{}\".format(ind, class_ind)"
   ],
   "metadata": {
    "collapsed": false,
    "pycharm": {
     "name": "#%%\n",
     "is_executing": false
    }
   }
  },
  {
   "cell_type": "code",
   "execution_count": 10,
   "outputs": [
    {
     "data": {
      "text/plain": "[1, 1, 1]"
     },
     "metadata": {},
     "output_type": "execute_result",
     "execution_count": 10
    }
   ],
   "source": [
    "n_bad = [int(complementarity_level[class_index]*n_views)\n",
    "          for class_index in range(n_classes)]\n",
    "n_bad"
   ],
   "metadata": {
    "collapsed": false,
    "pycharm": {
     "name": "#%%\n",
     "is_executing": false
    }
   }
  },
  {
   "cell_type": "markdown",
   "source": [
    "Complementarity is defined by class. Which means that samples of class i can be very complementary for example.\n",
    "To check if the setting is compatible with the error matrix, \n",
    "now we check if there is enough available indices that are not redundant or mutual error.\n",
    " "
   ],
   "metadata": {
    "collapsed": false,
    "pycharm": {
     "name": "#%% md\n"
    }
   }
  },
  {
   "cell_type": "code",
   "execution_count": 12,
   "outputs": [
    {
     "data": {
      "text/plain": "array([False, False, False])"
     },
     "metadata": {},
     "output_type": "execute_result",
     "execution_count": 12
    }
   ],
   "source": [
    "((complementarity * n_examples_per_class)[0] > np.array(\n",
    "        [len(inds) for inds in available_init_indices]))"
   ],
   "metadata": {
    "collapsed": false,
    "pycharm": {
     "name": "#%%\n",
     "is_executing": false
    }
   }
  },
  {
   "cell_type": "code",
   "execution_count": null,
   "outputs": [],
   "source": [
    "for class_index, complementarity in enumerate(complementarity):\n",
    "        n_comp = int(complementarity_level[class_index]*n_views)\n",
    "        complementarity_examples[class_index] = rs.choice(\n",
    "            available_init_indices[class_index],\n",
    "            size=int(n_examples_per_class[\n",
    "                         class_index] * complementarity),\n",
    "            replace=False)\n",
    "        _update_example_indices(\n",
    "            complementarity_examples[class_index],\n",
    "            'Complementary', class_index)\n",
    "        good_views_indices[class_index] = [\n",
    "            rs.choice(np.arange(n_views),\n",
    "                           size=n_bad,\n",
    "                           replace=False)\n",
    "            for _ in complementarity_examples[class_index]]\n",
    "        bad_views_indices[class_index] = [np.array([ind\n",
    "                                                         for ind\n",
    "                                                         in range(\n",
    "                n_views)\n",
    "                                                         if ind not in\n",
    "                                                         good_views_indices[\n",
    "                                                             class_index][\n",
    "                                                             ex_ind]])\n",
    "                                               for ex_ind, _ in\n",
    "                                               enumerate(\n",
    "                                                   complementarity_examples[\n",
    "                                                       class_index])]\n",
    "        _remove_available(available_init_indices,\n",
    "                               complementarity_examples[\n",
    "                                   class_index],\n",
    "                               class_index)\n",
    "print(bad_views_indices)                \n",
    "\n"
   ],
   "metadata": {
    "collapsed": false,
    "pycharm": {
     "name": "#%%\n"
    }
   }
  }
 ],
 "metadata": {
  "kernelspec": {
   "display_name": "Python 3",
   "language": "python",
   "name": "python3"
  },
  "language_info": {
   "codemirror_mode": {
    "name": "ipython",
    "version": 2
   },
   "file_extension": ".py",
   "mimetype": "text/x-python",
   "name": "python",
   "nbconvert_exporter": "python",
   "pygments_lexer": "ipython2",
   "version": "2.7.6"
  },
  "pycharm": {
   "stem_cell": {
    "cell_type": "raw",
    "source": [],
    "metadata": {
     "collapsed": false
    }
   }
  }
 },
 "nbformat": 4,
 "nbformat_minor": 0
}